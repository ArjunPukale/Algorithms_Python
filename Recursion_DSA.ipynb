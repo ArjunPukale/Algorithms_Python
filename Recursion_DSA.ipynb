{
  "nbformat": 4,
  "nbformat_minor": 0,
  "metadata": {
    "colab": {
      "name": "Recursion DSA.ipynb",
      "provenance": [],
      "collapsed_sections": []
    },
    "kernelspec": {
      "name": "python3",
      "display_name": "Python 3"
    },
    "language_info": {
      "name": "python"
    }
  },
  "cells": [
    {
      "cell_type": "markdown",
      "metadata": {
        "id": "1YEUWYDFSUpA"
      },
      "source": [
        "# Recursion"
      ]
    },
    {
      "cell_type": "markdown",
      "metadata": {
        "id": "u-Ca7Qd1SZBa"
      },
      "source": [
        "## 3 steps to follow\n",
        "\n",
        "\n",
        "1.   Recursive Case - the flow\n",
        "2.   Base case - stopping criteria\n",
        "3.   Unintentional Case - the constraint\n",
        "\n"
      ]
    },
    {
      "cell_type": "markdown",
      "metadata": {
        "id": "2jwgMrLbTDiI"
      },
      "source": [
        "## Factorial\n",
        "\n",
        "n! = n*(n-1)! <br/>\n",
        "0! = 1! = 1\n"
      ]
    },
    {
      "cell_type": "code",
      "metadata": {
        "id": "gzqoikabSNf7"
      },
      "source": [
        "def factorial(n):\n",
        "    if n>=0 and int(n)==n: #constraint\n",
        "        if n in [0,1]: # base case\n",
        "            return 1\n",
        "        else:\n",
        "            return n*factorial(n-1) #Recursive case\n",
        "    else:\n",
        "        print(\"Input can only be a non Negative Integer!\")"
      ],
      "execution_count": null,
      "outputs": []
    },
    {
      "cell_type": "code",
      "metadata": {
        "colab": {
          "base_uri": "https://localhost:8080/"
        },
        "id": "u3GZCg17T3I2",
        "outputId": "6632f6d3-ca03-46f4-ff17-cb9c1b84b580"
      },
      "source": [
        "factorial(5), factorial(0)"
      ],
      "execution_count": null,
      "outputs": [
        {
          "output_type": "execute_result",
          "data": {
            "text/plain": [
              "(120, 1)"
            ]
          },
          "metadata": {},
          "execution_count": 26
        }
      ]
    },
    {
      "cell_type": "code",
      "metadata": {
        "colab": {
          "base_uri": "https://localhost:8080/"
        },
        "id": "zQhqxxo_T-kv",
        "outputId": "8744b55f-173f-40d5-98a7-c48126fac575"
      },
      "source": [
        "factorial(-1)"
      ],
      "execution_count": null,
      "outputs": [
        {
          "output_type": "stream",
          "text": [
            "Input can only be a non Negative Integer!\n"
          ],
          "name": "stdout"
        }
      ]
    },
    {
      "cell_type": "markdown",
      "metadata": {
        "id": "nlVwUHWvUzik"
      },
      "source": [
        "## Fibonacci\n",
        "0 1 1 2 3 5 8 ...<br/>\n",
        "fibonacci(n) = fibonacci(n-1) + fibonacci(n-2)\n",
        "<br/>\n",
        "Series starts with 0,1\n"
      ]
    },
    {
      "cell_type": "code",
      "metadata": {
        "id": "AU2sKVxOUDNi"
      },
      "source": [
        "def fibo(n):\n",
        "    if n>=0 and int(n)==n:\n",
        "        if n in [0,1]:\n",
        "            return n # Base consition\n",
        "        else:\n",
        "            return fibo(n-1) + fibo(n-2) #recursive flow\n",
        "    else:\n",
        "        print(\"Input can only be a non Negative Integer!\")"
      ],
      "execution_count": null,
      "outputs": []
    },
    {
      "cell_type": "code",
      "metadata": {
        "colab": {
          "base_uri": "https://localhost:8080/"
        },
        "id": "XTQ_vMCiWHCk",
        "outputId": "b65e8ec8-60cc-4e3a-b046-a0b755d2bdd6"
      },
      "source": [
        "fibo(3), fibo(5), fibo(0)"
      ],
      "execution_count": null,
      "outputs": [
        {
          "output_type": "execute_result",
          "data": {
            "text/plain": [
              "(2, 5, 0)"
            ]
          },
          "metadata": {},
          "execution_count": 29
        }
      ]
    },
    {
      "cell_type": "code",
      "metadata": {
        "colab": {
          "base_uri": "https://localhost:8080/"
        },
        "id": "u-bTMaUnWIXQ",
        "outputId": "7b28ab36-9449-4885-b9b9-96bd17f39768"
      },
      "source": [
        "fibo(-1)"
      ],
      "execution_count": null,
      "outputs": [
        {
          "output_type": "stream",
          "text": [
            "Input can only be a non Negative Integer!\n"
          ],
          "name": "stdout"
        }
      ]
    },
    {
      "cell_type": "markdown",
      "metadata": {
        "id": "x1BdBMmIU___"
      },
      "source": [
        "## Sum of digits\n",
        "Q: How to find sum of digits of a positive integer using recursion?<br/>\n",
        "f(n) = n%10 + f(n//10)"
      ]
    },
    {
      "cell_type": "code",
      "metadata": {
        "id": "9Ou-JJelWRPG"
      },
      "source": [
        "def sum(n):\n",
        "    if n>=0 and int(n) == n: #constraint\n",
        "        if n == 0: #base condition\n",
        "            return 0\n",
        "        else:\n",
        "            return n%10 + sum(n//10) #recursive flow\n",
        "    else:\n",
        "        print(\"Input can only be a non negative Integer\")"
      ],
      "execution_count": null,
      "outputs": []
    },
    {
      "cell_type": "code",
      "metadata": {
        "colab": {
          "base_uri": "https://localhost:8080/"
        },
        "id": "KnwTuOe_YY_P",
        "outputId": "5ce7c432-6dd5-4689-a8c8-b2140beefc67"
      },
      "source": [
        "sum(123), sum(2), sum(0)"
      ],
      "execution_count": null,
      "outputs": [
        {
          "output_type": "execute_result",
          "data": {
            "text/plain": [
              "(6, 2, 0)"
            ]
          },
          "metadata": {},
          "execution_count": 13
        }
      ]
    },
    {
      "cell_type": "code",
      "metadata": {
        "colab": {
          "base_uri": "https://localhost:8080/"
        },
        "id": "CoTaI8GOW94l",
        "outputId": "49b8c5dd-318e-4d5b-8e28-18e52c40dfdc"
      },
      "source": [
        "sum(-123)"
      ],
      "execution_count": null,
      "outputs": [
        {
          "output_type": "stream",
          "text": [
            "Input can only be a non negative Integer\n"
          ],
          "name": "stdout"
        }
      ]
    },
    {
      "cell_type": "markdown",
      "metadata": {
        "id": "Z_s0ZSdSa2s_"
      },
      "source": [
        "## Power\n",
        "Q: How to calculate power of a number using recursion?<br/>\n",
        "$m^{n} = m*m^{n-1}$"
      ]
    },
    {
      "cell_type": "code",
      "metadata": {
        "id": "V6rEtvn0bFlE"
      },
      "source": [
        "def power(m,n):\n",
        "    if m>=0 and n>=0 and int(m) == m and int(n) == n: #constraint\n",
        "        if n == 1: #base case\n",
        "            return m\n",
        "        elif n == 0:\n",
        "            return 1\n",
        "        else:\n",
        "            return m*power(m,n-1) # recursion flow\n",
        "    else:\n",
        "        print(\"Invalid Input!\")"
      ],
      "execution_count": null,
      "outputs": []
    },
    {
      "cell_type": "code",
      "metadata": {
        "colab": {
          "base_uri": "https://localhost:8080/"
        },
        "id": "7_XfhXvicEvq",
        "outputId": "2c32ad17-f55c-46d0-d11a-bbcb356e30ea"
      },
      "source": [
        "power(3,2), power(5,0), power(2,1)"
      ],
      "execution_count": null,
      "outputs": [
        {
          "output_type": "execute_result",
          "data": {
            "text/plain": [
              "(9, 1, 2)"
            ]
          },
          "metadata": {},
          "execution_count": 44
        }
      ]
    },
    {
      "cell_type": "code",
      "metadata": {
        "colab": {
          "base_uri": "https://localhost:8080/"
        },
        "id": "w4OyjIYzc-6I",
        "outputId": "3cc04345-f0ea-445a-fc8e-993e5bc7de56"
      },
      "source": [
        "power(1.5,3), power(3,1.5), power(-2,5), power(5,-2)"
      ],
      "execution_count": null,
      "outputs": [
        {
          "output_type": "stream",
          "text": [
            "Invalid Input!\n",
            "Invalid Input!\n",
            "Invalid Input!\n",
            "Invalid Input!\n"
          ],
          "name": "stdout"
        },
        {
          "output_type": "execute_result",
          "data": {
            "text/plain": [
              "(None, None, None, None)"
            ]
          },
          "metadata": {},
          "execution_count": 55
        }
      ]
    },
    {
      "cell_type": "markdown",
      "metadata": {
        "id": "XbtsCL8ziAAM"
      },
      "source": [
        "## GCD (Greatest Common Divisor) <br/>\n",
        "Q: How to find GCD of two numbers using recursion?<br/>\n",
        "Euclidean Algorithm: <br/>\n",
        "gcd(a,0) = a<br/>\n",
        "gcd(a,b) = gcd(b , a mod b)"
      ]
    },
    {
      "cell_type": "code",
      "metadata": {
        "id": "7iL3u2eZiqZi"
      },
      "source": [
        "def gcd(a,b): # a > b\n",
        "    if int(a)==a and int(b)==b: #constraint\n",
        "        # To conert negative input to positive\n",
        "        if a<0:\n",
        "            a=-1*a\n",
        "        if b<0:\n",
        "            b=-1*b\n",
        "            \n",
        "        if b>a:\n",
        "            return gcd(b,a) #to ensure 1st argument is greater\n",
        "        if b == 0: #base condition\n",
        "            return a\n",
        "        else:\n",
        "            return gcd(b, a%b) # recursion flow\n",
        "    else:\n",
        "        print(\"Invalid Input!\")"
      ],
      "execution_count": null,
      "outputs": []
    },
    {
      "cell_type": "code",
      "metadata": {
        "colab": {
          "base_uri": "https://localhost:8080/"
        },
        "id": "t9f9JHtXl81w",
        "outputId": "6a1fc721-dbe2-4a15-d083-61eb952a1696"
      },
      "source": [
        "gcd(4,12), gcd(3,0), gcd(48, 18),gcd(-48,18), gcd(0,0)"
      ],
      "execution_count": null,
      "outputs": [
        {
          "output_type": "execute_result",
          "data": {
            "text/plain": [
              "(4, 3, 6, 6, 0)"
            ]
          },
          "metadata": {},
          "execution_count": 79
        }
      ]
    },
    {
      "cell_type": "code",
      "metadata": {
        "colab": {
          "base_uri": "https://localhost:8080/"
        },
        "id": "_GNDDEvklLzw",
        "outputId": "e8fe3abf-0f1a-46bd-ed8f-3ec27f2cec8c"
      },
      "source": [
        "gcd(1.5,3)"
      ],
      "execution_count": null,
      "outputs": [
        {
          "output_type": "stream",
          "text": [
            "Invalid Input!\n"
          ],
          "name": "stdout"
        }
      ]
    },
    {
      "cell_type": "markdown",
      "metadata": {
        "id": "lfLjGcFILjko"
      },
      "source": [
        "## Decimal to Binary\n",
        "Q: How to convert a number from decimal to binary using recursion ?<br/>\n",
        "\n",
        "\n",
        "```\n",
        "       Quotient   Remainder\n",
        "12/2 =>   6          0\n",
        "6/2  =>   3          0\n",
        "3/2  =>   1          1\n",
        "1/2  =>   0          1\n",
        "--------------------------\n",
        "=>  1 1 0 0\n",
        "```\n",
        "f(n) = n%2 + 10*f(int(n/2))\n"
      ]
    },
    {
      "cell_type": "code",
      "metadata": {
        "id": "WCGMm7H1MDCj"
      },
      "source": [
        "def dec2bin(n):\n",
        "    if (int(n) == n):\n",
        "        if n == 0: # base case\n",
        "            return 0\n",
        "        else:\n",
        "            return n%2 + 10*dec2bin(int(n/2)) #recursive flow\n",
        "    else:\n",
        "        print(\"Only Integer Input Allowed!\")"
      ],
      "execution_count": null,
      "outputs": []
    },
    {
      "cell_type": "code",
      "metadata": {
        "colab": {
          "base_uri": "https://localhost:8080/"
        },
        "id": "2teVS2yYMzvA",
        "outputId": "d5c80ac7-ad8d-41af-cb6d-5ca993478aa7"
      },
      "source": [
        "dec2bin(12), dec2bin(-12), dec2bin(1), dec2bin(0), dec2bin(6), dec2bin(15)"
      ],
      "execution_count": null,
      "outputs": [
        {
          "output_type": "execute_result",
          "data": {
            "text/plain": [
              "(1100, 1100, 1, 0, 110, 1111)"
            ]
          },
          "metadata": {},
          "execution_count": 39
        }
      ]
    },
    {
      "cell_type": "code",
      "metadata": {
        "id": "al1gxPx_n-yc",
        "colab": {
          "base_uri": "https://localhost:8080/"
        },
        "outputId": "8d4b3d31-d448-41b2-8e27-5cbba9811bb5"
      },
      "source": [
        "dec2bin(1.2)"
      ],
      "execution_count": null,
      "outputs": [
        {
          "output_type": "stream",
          "text": [
            "Only Integer Input Allowed!\n"
          ],
          "name": "stdout"
        }
      ]
    },
    {
      "cell_type": "markdown",
      "metadata": {
        "id": "2mhPn9PApPXm"
      },
      "source": [
        "## Product of Array"
      ]
    },
    {
      "cell_type": "code",
      "metadata": {
        "id": "EAC8gF78pXLY"
      },
      "source": [
        "def productOfArray(arr):\n",
        "    if len(arr) == 1:\n",
        "        return arr[0]\n",
        "    else:\n",
        "        return arr[0]*productOfArray(arr[1:])"
      ],
      "execution_count": null,
      "outputs": []
    },
    {
      "cell_type": "code",
      "metadata": {
        "colab": {
          "base_uri": "https://localhost:8080/"
        },
        "id": "hDzCUmA-pZdx",
        "outputId": "42896787-dea6-43b5-e34f-68685cf425ca"
      },
      "source": [
        "productOfArray([2,3,4,5,6])"
      ],
      "execution_count": null,
      "outputs": [
        {
          "output_type": "execute_result",
          "data": {
            "text/plain": [
              "720"
            ]
          },
          "metadata": {},
          "execution_count": 47
        }
      ]
    },
    {
      "cell_type": "markdown",
      "metadata": {
        "id": "FwGnRjIDpqLU"
      },
      "source": [
        "## Recursive Range\n",
        "Adds up all numbers from 0 to the number passed to the function"
      ]
    },
    {
      "cell_type": "code",
      "metadata": {
        "id": "uplYbwyQppyd"
      },
      "source": [
        "def recursiveRange(num):\n",
        "    if num in [0,1]:\n",
        "        return num\n",
        "    else:\n",
        "        return num + recursiveRange(num-1)"
      ],
      "execution_count": null,
      "outputs": []
    },
    {
      "cell_type": "code",
      "metadata": {
        "colab": {
          "base_uri": "https://localhost:8080/"
        },
        "id": "D3nSgyqGp4r5",
        "outputId": "819dc4e0-98e5-437d-8558-6af5fab44e94"
      },
      "source": [
        "recursiveRange(10)"
      ],
      "execution_count": null,
      "outputs": [
        {
          "output_type": "execute_result",
          "data": {
            "text/plain": [
              "55"
            ]
          },
          "metadata": {},
          "execution_count": 49
        }
      ]
    },
    {
      "cell_type": "markdown",
      "metadata": {
        "id": "qRZSiwBYqVxW"
      },
      "source": [
        "## Reverse a string"
      ]
    },
    {
      "cell_type": "code",
      "metadata": {
        "id": "YchXJtwLqYks"
      },
      "source": [
        "def reverse(s):\n",
        "    if len(s)==1:\n",
        "        return s\n",
        "    else:\n",
        "        return s[-1] + reverse(s[:-1])"
      ],
      "execution_count": null,
      "outputs": []
    },
    {
      "cell_type": "code",
      "metadata": {
        "colab": {
          "base_uri": "https://localhost:8080/",
          "height": 35
        },
        "id": "HIG5z1XmqbnP",
        "outputId": "17651174-46b9-4c2d-b7e1-aefb6df5f0d0"
      },
      "source": [
        "reverse(\"python\")"
      ],
      "execution_count": null,
      "outputs": [
        {
          "output_type": "execute_result",
          "data": {
            "application/vnd.google.colaboratory.intrinsic+json": {
              "type": "string"
            },
            "text/plain": [
              "'nohtyp'"
            ]
          },
          "metadata": {},
          "execution_count": 51
        }
      ]
    },
    {
      "cell_type": "markdown",
      "metadata": {
        "id": "pCvB9CxJqfYI"
      },
      "source": [
        "## IsPalindrome"
      ]
    },
    {
      "cell_type": "code",
      "metadata": {
        "id": "7fnybtEnqdCg"
      },
      "source": [
        "def isPalindrome(s):\n",
        "    if len(s) in [0,1]:\n",
        "        return True\n",
        "    elif s[0] == s[-1]:\n",
        "        return isPalindrome(s[1:-1])\n",
        "    else:\n",
        "        return False"
      ],
      "execution_count": null,
      "outputs": []
    },
    {
      "cell_type": "code",
      "metadata": {
        "colab": {
          "base_uri": "https://localhost:8080/"
        },
        "id": "BtqkZsKiqj9n",
        "outputId": "514105de-76ce-49d8-d195-581d863b5501"
      },
      "source": [
        "isPalindrome(\"tacocat\")"
      ],
      "execution_count": null,
      "outputs": [
        {
          "output_type": "execute_result",
          "data": {
            "text/plain": [
              "True"
            ]
          },
          "metadata": {},
          "execution_count": 53
        }
      ]
    },
    {
      "cell_type": "markdown",
      "metadata": {
        "id": "uhYBngQfqyze"
      },
      "source": [
        "## Flatten an array"
      ]
    },
    {
      "cell_type": "code",
      "metadata": {
        "id": "xDtdtguXqq95"
      },
      "source": [
        "def flatten(arr):\n",
        "    result = []\n",
        "    for x in arr:\n",
        "        if type(x) is list:\n",
        "            result.extend(flatten(x))\n",
        "        else:\n",
        "            result.append(x)\n",
        "    return result"
      ],
      "execution_count": null,
      "outputs": []
    },
    {
      "cell_type": "code",
      "metadata": {
        "colab": {
          "base_uri": "https://localhost:8080/"
        },
        "id": "fiiNLn6Lq3Be",
        "outputId": "61973e1a-13b4-497d-c1aa-c65fe41c2f95"
      },
      "source": [
        "flatten([1,2,3,[4,5]])"
      ],
      "execution_count": null,
      "outputs": [
        {
          "output_type": "execute_result",
          "data": {
            "text/plain": [
              "[1, 2, 3, 4, 5]"
            ]
          },
          "metadata": {},
          "execution_count": 55
        }
      ]
    },
    {
      "cell_type": "code",
      "metadata": {
        "id": "ye6iVlLoq6or"
      },
      "source": [
        ""
      ],
      "execution_count": null,
      "outputs": []
    }
  ]
}